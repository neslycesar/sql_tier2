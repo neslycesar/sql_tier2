{
 "cells": [
  {
   "cell_type": "code",
   "execution_count": 1,
   "id": "1e246995",
   "metadata": {},
   "outputs": [],
   "source": [
    "import sqlite3\n",
    "from sqlite3 import Error"
   ]
  },
  {
   "cell_type": "code",
   "execution_count": 2,
   "id": "9e0e812c",
   "metadata": {},
   "outputs": [],
   "source": [
    "def create_connection(db_file):\n",
    "    \"\"\" create a database connection to the SQLite database\n",
    "        specified by the db_file\n",
    "    :param db_file: database file\n",
    "    :return: Connection object or None\n",
    "    \"\"\"\n",
    "    conn = None\n",
    "    try:\n",
    "        conn = sqlite3.connect(db_file)\n",
    "        print(sqlite3.version)\n",
    "    except Error as e:\n",
    "        print(e)\n",
    " \n",
    "    return conn"
   ]
  },
  {
   "cell_type": "code",
   "execution_count": 7,
   "id": "91f53ef6",
   "metadata": {},
   "outputs": [],
   "source": [
    "def select_all_tasks(conn, query1):\n",
    "    \"\"\"\n",
    "    Query all rows in the tasks table\n",
    "    :param conn: the Connection object\n",
    "    :param query1: the query to run\n",
    "    :return:\n",
    "    \"\"\"\n",
    "    cur = conn.cursor()\n",
    "    \n",
    "    \n",
    "    cur.execute(query1)\n",
    " \n",
    "    rows = cur.fetchall()\n",
    " \n",
    "    for row in rows:\n",
    "        print(row)"
   ]
  },
  {
   "cell_type": "code",
   "execution_count": 8,
   "id": "f67143e8",
   "metadata": {},
   "outputs": [
    {
     "name": "stdout",
     "output_type": "stream",
     "text": [
      "2.6.0\n"
     ]
    }
   ],
   "source": [
    "database = \"sqlite_db_pythonsqlite.db\"\n",
    "# create a database connection\n",
    "conn = create_connection(database)"
   ]
  },
  {
   "cell_type": "code",
   "execution_count": 18,
   "id": "28691a87",
   "metadata": {},
   "outputs": [
    {
     "name": "stdout",
     "output_type": "stream",
     "text": [
      "Q10: Produce a list of facilities with a total revenue less than 1000.\n",
      "The output of facility name and total revenue, sorted by revenue. Remember that there's a different cost for guests and members!\n",
      "\n",
      "('Pool Table', 270)\n",
      "('Snooker Table', 240)\n",
      "('Table Tennis', 180)\n"
     ]
    }
   ],
   "source": [
    "q10 = \"\"\"Q10: Produce a list of facilities with a total revenue less than 1000.\n",
    "The output of facility name and total revenue, sorted by revenue. Remember that there's a different cost for guests and members!\n",
    "\"\"\"\n",
    "\n",
    "\n",
    "query10 = \"\"\"\n",
    "        SELECT facility_name, SUM(cost) AS TOTAL_REVENUE\n",
    "        FROM (SELECT f.name AS facility_name, CASE WHEN b.memid = 0 THEN (b.slots * f.guestcost) ELSE \n",
    "        (b.slots * membercost) END AS cost \n",
    "        FROM Bookings as b JOIN Facilities AS f ON (b.facid = f.facid) JOIN Members AS m ON (b.memid = m.memid)) \n",
    "        AS subquery GROUP BY facility_name HAVING TOTAL_REVENUE < 1000;\n",
    "        \"\"\"\n",
    "with conn:\n",
    "    print(q10)\n",
    "    select_all_tasks(conn, query10)"
   ]
  },
  {
   "cell_type": "code",
   "execution_count": 26,
   "id": "72bc29bc",
   "metadata": {},
   "outputs": [
    {
     "name": "stdout",
     "output_type": "stream",
     "text": [
      "Q11: Produce a report of members and who recommended them in alphabetic surname,firstname order\n",
      "('Bader', 'Florence', 'Stibbons Ponder')\n",
      "('Baker', 'Anne', 'Stibbons Ponder')\n",
      "('Baker', 'Timothy', 'Farrell Jemima')\n",
      "('Boothe', 'Tim', 'Rownam Tim')\n",
      "('Butters', 'Gerald', 'Smith Darren')\n",
      "('Coplin', 'Joan', 'Baker Timothy')\n",
      "('Crumpet', 'Erica', 'Smith Tracy')\n",
      "('Dare', 'Nancy', 'Joplette Janice')\n",
      "('Farrell', 'David', None)\n",
      "('Farrell', 'Jemima', None)\n",
      "('GUEST', 'GUEST', None)\n",
      "('Genting', 'Matthew', 'Butters Gerald')\n",
      "('Hunt', 'John', 'Purview Millicent')\n",
      "('Jones', 'David', 'Joplette Janice')\n",
      "('Jones', 'Douglas', 'Jones David')\n",
      "('Joplette', 'Janice', 'Smith Darren')\n",
      "('Mackenzie', 'Anna', 'Smith Darren')\n",
      "('Owen', 'Charles', 'Smith Darren')\n",
      "('Pinker', 'David', 'Farrell Jemima')\n",
      "('Purview', 'Millicent', 'Smith Tracy')\n",
      "('Rownam', 'Tim', None)\n",
      "('Rumney', 'Henrietta', 'Genting Matthew')\n",
      "('Sarwin', 'Ramnaresh', 'Bader Florence')\n",
      "('Smith', 'Darren', None)\n",
      "('Smith', 'Darren', None)\n",
      "('Smith', 'Jack', 'Smith Darren')\n",
      "('Smith', 'Tracy', None)\n",
      "('Stibbons', 'Ponder', 'Tracy Burton')\n",
      "('Tracy', 'Burton', None)\n",
      "('Tupperware', 'Hyacinth', None)\n",
      "('Worthington-Smyth', 'Henry', 'Smith Tracy')\n"
     ]
    }
   ],
   "source": [
    "q11 = \"\"\"Q11: Produce a report of members and who recommended them in alphabetic surname,firstname order\"\"\"\n",
    "\n",
    "\n",
    "query11 = \"\"\"\n",
    "        SELECT m1.surname AS member_surname,\n",
    "        m1.firstname AS member_firstname,\n",
    "        m2.surname ||\" \"|| m2.firstname AS recommendedby \n",
    "        FROM \n",
    "        Members AS m1 \n",
    "        LEFT JOIN \n",
    "        Members AS m2 ON (m1.recommendedby = m2.memid)\n",
    "        ORDER BY \n",
    "        member_surname ASC,\n",
    "        member_firstname ASC;\n",
    "        \"\"\"\n",
    "with conn:\n",
    "    print(q11)\n",
    "    select_all_tasks(conn, query11)"
   ]
  },
  {
   "cell_type": "code",
   "execution_count": 27,
   "id": "ca6f8745",
   "metadata": {},
   "outputs": [
    {
     "name": "stdout",
     "output_type": "stream",
     "text": [
      "Q12: Find the facilities with their usage by member, but not guests\n",
      "('Badminton Court', 1086)\n",
      "('Tennis Court 1', 957)\n",
      "('Massage Room 1', 884)\n",
      "('Tennis Court 2', 882)\n",
      "('Snooker Table', 860)\n",
      "('Pool Table', 856)\n",
      "('Table Tennis', 794)\n",
      "('Squash Court', 418)\n",
      "('Massage Room 2', 54)\n"
     ]
    }
   ],
   "source": [
    "q12 = \"\"\"Q12: Find the facilities with their usage by member, but not guests\"\"\"\n",
    "\n",
    "query12 = \"\"\"\n",
    "        SELECT f.name AS facility_name,\n",
    "        SUM(b.slots) AS total_usage_by_members FROM Bookings as b JOIN Facilities AS f ON (b.facid = f.facid) \n",
    "        WHERE b.memid != 0\n",
    "        GROUP BY facility_name ORDER BY total_usage_by_members DESC;\n",
    "        \"\"\"\n",
    "with conn:\n",
    "    print(q12)\n",
    "    select_all_tasks(conn, query12)"
   ]
  },
  {
   "cell_type": "code",
   "execution_count": 29,
   "id": "f043d593",
   "metadata": {},
   "outputs": [
    {
     "name": "stdout",
     "output_type": "stream",
     "text": [
      "Q13: Find the facilities usage by month, but not guests\n",
      "('Badminton Court', '2012-07', 165)\n",
      "('Badminton Court', '2012-08', 414)\n",
      "('Badminton Court', '2012-09', 507)\n",
      "('Massage Room 1', '2012-07', 166)\n",
      "('Massage Room 1', '2012-08', 316)\n",
      "('Massage Room 1', '2012-09', 402)\n",
      "('Massage Room 2', '2012-07', 8)\n",
      "('Massage Room 2', '2012-08', 18)\n",
      "('Massage Room 2', '2012-09', 28)\n",
      "('Pool Table', '2012-07', 110)\n",
      "('Pool Table', '2012-08', 303)\n",
      "('Pool Table', '2012-09', 443)\n",
      "('Snooker Table', '2012-07', 140)\n",
      "('Snooker Table', '2012-08', 316)\n",
      "('Snooker Table', '2012-09', 404)\n",
      "('Squash Court', '2012-07', 50)\n",
      "('Squash Court', '2012-08', 184)\n",
      "('Squash Court', '2012-09', 184)\n",
      "('Table Tennis', '2012-07', 98)\n",
      "('Table Tennis', '2012-08', 296)\n",
      "('Table Tennis', '2012-09', 400)\n",
      "('Tennis Court 1', '2012-07', 201)\n",
      "('Tennis Court 1', '2012-08', 339)\n",
      "('Tennis Court 1', '2012-09', 417)\n",
      "('Tennis Court 2', '2012-07', 123)\n",
      "('Tennis Court 2', '2012-08', 345)\n",
      "('Tennis Court 2', '2012-09', 414)\n"
     ]
    }
   ],
   "source": [
    "q13 = \"\"\"Q13: Find the facilities usage by month, but not guests\"\"\"\n",
    "\n",
    "query13 = \"\"\"\n",
    "        SELECT f.name AS facility_name,\n",
    "        strftime(\"%Y-%m\", b.starttime) AS month,\n",
    "        SUM(b.slots) AS total_usage_by_members FROM Bookings as b JOIN Facilities AS f ON (b.facid = f.facid) \n",
    "        WHERE b.memid != 0\n",
    "        GROUP BY facility_name, month ORDER BY facility_name, month;\n",
    "        \"\"\"\n",
    "with conn:\n",
    "    print(q13)\n",
    "    select_all_tasks(conn, query13)"
   ]
  },
  {
   "cell_type": "code",
   "execution_count": null,
   "id": "b4a919fc",
   "metadata": {},
   "outputs": [],
   "source": []
  }
 ],
 "metadata": {
  "kernelspec": {
   "display_name": "Python 3 (ipykernel)",
   "language": "python",
   "name": "python3"
  },
  "language_info": {
   "codemirror_mode": {
    "name": "ipython",
    "version": 3
   },
   "file_extension": ".py",
   "mimetype": "text/x-python",
   "name": "python",
   "nbconvert_exporter": "python",
   "pygments_lexer": "ipython3",
   "version": "3.11.3"
  }
 },
 "nbformat": 4,
 "nbformat_minor": 5
}
